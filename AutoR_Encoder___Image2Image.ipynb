{
  "cells": [
    {
      "cell_type": "markdown",
      "metadata": {
        "id": "view-in-github",
        "colab_type": "text"
      },
      "source": [
        "<a href=\"https://colab.research.google.com/github/amaljohn2304/AutoR-Encoder-DeepSea-Image-Enhancement-/blob/main/AutoR_Encoder___Image2Image.ipynb\" target=\"_parent\"><img src=\"https://colab.research.google.com/assets/colab-badge.svg\" alt=\"Open In Colab\"/></a>"
      ]
    },
    {
      "cell_type": "code",
      "execution_count": null,
      "metadata": {
        "colab": {
          "background_save": true
        },
        "id": "bQAf7uvyYkPs",
        "outputId": "8a097053-0f3a-4d8c-dad4-0c5a6123f737"
      },
      "outputs": [
        {
          "ename": "KeyboardInterrupt",
          "evalue": "ignored",
          "output_type": "error",
          "traceback": [
            "\u001b[0;31m---------------------------------------------------------------------------\u001b[0m",
            "\u001b[0;31mKeyboardInterrupt\u001b[0m                         Traceback (most recent call last)",
            "\u001b[0;32m<ipython-input-1-4996ee3d8d09>\u001b[0m in \u001b[0;36m<module>\u001b[0;34m\u001b[0m\n\u001b[1;32m      1\u001b[0m \u001b[0;32mfrom\u001b[0m \u001b[0mgoogle\u001b[0m\u001b[0;34m.\u001b[0m\u001b[0mcolab\u001b[0m \u001b[0;32mimport\u001b[0m \u001b[0mdrive\u001b[0m\u001b[0;34m\u001b[0m\u001b[0;34m\u001b[0m\u001b[0m\n\u001b[0;32m----> 2\u001b[0;31m \u001b[0mdrive\u001b[0m\u001b[0;34m.\u001b[0m\u001b[0mmount\u001b[0m\u001b[0;34m(\u001b[0m\u001b[0;34m'/content/gdrive'\u001b[0m\u001b[0;34m)\u001b[0m\u001b[0;34m\u001b[0m\u001b[0;34m\u001b[0m\u001b[0m\n\u001b[0m",
            "\u001b[0;32m/usr/local/lib/python3.8/dist-packages/google/colab/drive.py\u001b[0m in \u001b[0;36mmount\u001b[0;34m(mountpoint, force_remount, timeout_ms, readonly)\u001b[0m\n\u001b[1;32m     98\u001b[0m \u001b[0;32mdef\u001b[0m \u001b[0mmount\u001b[0m\u001b[0;34m(\u001b[0m\u001b[0mmountpoint\u001b[0m\u001b[0;34m,\u001b[0m \u001b[0mforce_remount\u001b[0m\u001b[0;34m=\u001b[0m\u001b[0;32mFalse\u001b[0m\u001b[0;34m,\u001b[0m \u001b[0mtimeout_ms\u001b[0m\u001b[0;34m=\u001b[0m\u001b[0;36m120000\u001b[0m\u001b[0;34m,\u001b[0m \u001b[0mreadonly\u001b[0m\u001b[0;34m=\u001b[0m\u001b[0;32mFalse\u001b[0m\u001b[0;34m)\u001b[0m\u001b[0;34m:\u001b[0m\u001b[0;34m\u001b[0m\u001b[0;34m\u001b[0m\u001b[0m\n\u001b[1;32m     99\u001b[0m   \u001b[0;34m\"\"\"Mount your Google Drive at the specified mountpoint path.\"\"\"\u001b[0m\u001b[0;34m\u001b[0m\u001b[0;34m\u001b[0m\u001b[0m\n\u001b[0;32m--> 100\u001b[0;31m   return _mount(\n\u001b[0m\u001b[1;32m    101\u001b[0m       \u001b[0mmountpoint\u001b[0m\u001b[0;34m,\u001b[0m\u001b[0;34m\u001b[0m\u001b[0;34m\u001b[0m\u001b[0m\n\u001b[1;32m    102\u001b[0m       \u001b[0mforce_remount\u001b[0m\u001b[0;34m=\u001b[0m\u001b[0mforce_remount\u001b[0m\u001b[0;34m,\u001b[0m\u001b[0;34m\u001b[0m\u001b[0;34m\u001b[0m\u001b[0m\n",
            "\u001b[0;32m/usr/local/lib/python3.8/dist-packages/google/colab/drive.py\u001b[0m in \u001b[0;36m_mount\u001b[0;34m(mountpoint, force_remount, timeout_ms, ephemeral, readonly)\u001b[0m\n\u001b[1;32m    121\u001b[0m       'TBE_EPHEM_CREDS_ADDR'] if ephemeral else _os.environ['TBE_CREDS_ADDR']\n\u001b[1;32m    122\u001b[0m   \u001b[0;32mif\u001b[0m \u001b[0mephemeral\u001b[0m\u001b[0;34m:\u001b[0m\u001b[0;34m\u001b[0m\u001b[0;34m\u001b[0m\u001b[0m\n\u001b[0;32m--> 123\u001b[0;31m     _message.blocking_request(\n\u001b[0m\u001b[1;32m    124\u001b[0m         'request_auth', request={'authType': 'dfs_ephemeral'}, timeout_sec=None)\n\u001b[1;32m    125\u001b[0m \u001b[0;34m\u001b[0m\u001b[0m\n",
            "\u001b[0;32m/usr/local/lib/python3.8/dist-packages/google/colab/_message.py\u001b[0m in \u001b[0;36mblocking_request\u001b[0;34m(request_type, request, timeout_sec, parent)\u001b[0m\n\u001b[1;32m    169\u001b[0m   request_id = send_request(\n\u001b[1;32m    170\u001b[0m       request_type, request, parent=parent, expect_reply=True)\n\u001b[0;32m--> 171\u001b[0;31m   \u001b[0;32mreturn\u001b[0m \u001b[0mread_reply_from_input\u001b[0m\u001b[0;34m(\u001b[0m\u001b[0mrequest_id\u001b[0m\u001b[0;34m,\u001b[0m \u001b[0mtimeout_sec\u001b[0m\u001b[0;34m)\u001b[0m\u001b[0;34m\u001b[0m\u001b[0;34m\u001b[0m\u001b[0m\n\u001b[0m",
            "\u001b[0;32m/usr/local/lib/python3.8/dist-packages/google/colab/_message.py\u001b[0m in \u001b[0;36mread_reply_from_input\u001b[0;34m(message_id, timeout_sec)\u001b[0m\n\u001b[1;32m     95\u001b[0m     \u001b[0mreply\u001b[0m \u001b[0;34m=\u001b[0m \u001b[0m_read_next_input_message\u001b[0m\u001b[0;34m(\u001b[0m\u001b[0;34m)\u001b[0m\u001b[0;34m\u001b[0m\u001b[0;34m\u001b[0m\u001b[0m\n\u001b[1;32m     96\u001b[0m     \u001b[0;32mif\u001b[0m \u001b[0mreply\u001b[0m \u001b[0;34m==\u001b[0m \u001b[0m_NOT_READY\u001b[0m \u001b[0;32mor\u001b[0m \u001b[0;32mnot\u001b[0m \u001b[0misinstance\u001b[0m\u001b[0;34m(\u001b[0m\u001b[0mreply\u001b[0m\u001b[0;34m,\u001b[0m \u001b[0mdict\u001b[0m\u001b[0;34m)\u001b[0m\u001b[0;34m:\u001b[0m\u001b[0;34m\u001b[0m\u001b[0;34m\u001b[0m\u001b[0m\n\u001b[0;32m---> 97\u001b[0;31m       \u001b[0mtime\u001b[0m\u001b[0;34m.\u001b[0m\u001b[0msleep\u001b[0m\u001b[0;34m(\u001b[0m\u001b[0;36m0.025\u001b[0m\u001b[0;34m)\u001b[0m\u001b[0;34m\u001b[0m\u001b[0;34m\u001b[0m\u001b[0m\n\u001b[0m\u001b[1;32m     98\u001b[0m       \u001b[0;32mcontinue\u001b[0m\u001b[0;34m\u001b[0m\u001b[0;34m\u001b[0m\u001b[0m\n\u001b[1;32m     99\u001b[0m     if (reply.get('type') == 'colab_reply' and\n",
            "\u001b[0;31mKeyboardInterrupt\u001b[0m: "
          ]
        }
      ],
      "source": [
        "from google.colab import drive\n",
        "drive.mount('/content/gdrive')"
      ]
    },
    {
      "cell_type": "code",
      "execution_count": null,
      "metadata": {
        "colab": {
          "background_save": true
        },
        "id": "akasMZ_rY0S8"
      },
      "outputs": [],
      "source": []
    },
    {
      "cell_type": "code",
      "execution_count": null,
      "metadata": {
        "colab": {
          "background_save": true
        },
        "id": "CNZgl7sjwH7e"
      },
      "outputs": [],
      "source": [
        "import tensorflow as tf\n",
        "import pandas as pd\n",
        "import numpy as np\n",
        "import cv2\n",
        "import os"
      ]
    },
    {
      "cell_type": "code",
      "execution_count": null,
      "metadata": {
        "colab": {
          "background_save": true
        },
        "id": "0_DmmawvQ_Jo"
      },
      "outputs": [],
      "source": [
        "dirt=[]\n",
        "clear=[]"
      ]
    },
    {
      "cell_type": "code",
      "execution_count": null,
      "metadata": {
        "colab": {
          "background_save": true
        },
        "id": "lZdJIjTZBe94"
      },
      "outputs": [],
      "source": [
        "dirt=[]"
      ]
    },
    {
      "cell_type": "code",
      "execution_count": null,
      "metadata": {
        "colab": {
          "background_save": true
        },
        "id": "B9PGgtJLWce5"
      },
      "outputs": [],
      "source": [
        "clear=[]"
      ]
    },
    {
      "cell_type": "code",
      "execution_count": null,
      "metadata": {
        "colab": {
          "background_save": true
        },
        "id": "YE1RpliAeJFr"
      },
      "outputs": [],
      "source": [
        "a=list(os.listdir('/content/gdrive/MyDrive/Paired/underwater_scenes/trainA'))\n",
        "a.sort()\n",
        "print(a)"
      ]
    },
    {
      "cell_type": "code",
      "execution_count": null,
      "metadata": {
        "colab": {
          "background_save": true
        },
        "id": "TkGe8ye5eK6j"
      },
      "outputs": [],
      "source": [
        "b=list(os.listdir('/content/gdrive/MyDrive/Paired/underwater_scenes/trainB'))\n",
        "b.sort()\n",
        "print(b)"
      ]
    },
    {
      "cell_type": "code",
      "execution_count": null,
      "metadata": {
        "colab": {
          "background_save": true
        },
        "id": "x58cJMGE-fqr"
      },
      "outputs": [],
      "source": [
        "path='/content/gdrive/MyDrive/Paired/underwater_scenes/trainA/'\n",
        "cnt=0\n",
        "for i in a:\n",
        "  if(cnt>200):\n",
        "    break\n",
        "  image=cv2.imread(path+'/'+i)\n",
        "  image = cv2.cvtColor(image, cv2.COLOR_RGB2BGR)\n",
        "  image=cv2.resize(image,(480,480))\n",
        "  image = image.reshape(480,480,3)\n",
        "  dirt.append(image)\n",
        "  cnt=cnt+1"
      ]
    },
    {
      "cell_type": "code",
      "execution_count": null,
      "metadata": {
        "colab": {
          "base_uri": "https://localhost:8080/"
        },
        "id": "vLT0e8zhSgb7",
        "outputId": "c0252660-fbea-4613-dac2-0cbf3f8ef16b"
      },
      "outputs": [
        {
          "data": {
            "text/plain": [
              "(201, 480, 480, 3)"
            ]
          },
          "execution_count": 9,
          "metadata": {},
          "output_type": "execute_result"
        }
      ],
      "source": []
    },
    {
      "cell_type": "code",
      "execution_count": null,
      "metadata": {
        "id": "xtY3iZd2V9By"
      },
      "outputs": [],
      "source": []
    },
    {
      "cell_type": "code",
      "execution_count": null,
      "metadata": {
        "id": "R5MAIF0exJ-N"
      },
      "outputs": [],
      "source": [
        "import matplotlib.pyplot as plt"
      ]
    },
    {
      "cell_type": "code",
      "execution_count": null,
      "metadata": {
        "colab": {
          "background_save": true
        },
        "id": "BcTHF5NrUf6r"
      },
      "outputs": [],
      "source": [
        "plt.imshow(dirt[1])"
      ]
    },
    {
      "cell_type": "code",
      "execution_count": null,
      "metadata": {
        "colab": {
          "background_save": true
        },
        "id": "oztLHzkZU31Y"
      },
      "outputs": [],
      "source": [
        "path='/content/gdrive/MyDrive/Paired/underwater_scenes/trainB/'\n",
        "cnt=0\n",
        "for i in b:\n",
        "  if(cnt>200):\n",
        "    break\n",
        "  image=cv2.imread(path+'/'+i)\n",
        "  image = cv2.cvtColor(image, cv2.COLOR_RGB2BGR)\n",
        "  image=cv2.resize(image,(480,480))\n",
        "  image = image.reshape(480,480,3)\n",
        "  clear.append(image)\n",
        "  cnt=cnt+1"
      ]
    },
    {
      "cell_type": "code",
      "execution_count": null,
      "metadata": {
        "colab": {
          "background_save": true
        },
        "id": "s9MNUaMBWQs2"
      },
      "outputs": [],
      "source": []
    },
    {
      "cell_type": "code",
      "execution_count": null,
      "metadata": {
        "colab": {
          "background_save": true
        },
        "id": "LVv6T3SIci_X",
        "outputId": "5d2c631e-651e-438d-abd0-149ad23f9a45"
      },
      "outputs": [
        {
          "data": {
            "text/plain": [
              "<matplotlib.image.AxesImage at 0x7fa4346cdb80>"
            ]
          },
          "execution_count": 24,
          "metadata": {},
          "output_type": "execute_result"
        },
        {
          "data": {
            "image/png": "[encoded data removed]",
            "text/plain": [
              "<Figure size 432x288 with 1 Axes>"
            ]
          },
          "metadata": {},
          "output_type": "display_data"
        }
      ],
      "source": [
        "plt.imshow(clear[1])"
      ]
    },
    {
      "cell_type": "code",
      "execution_count": null,
      "metadata": {
        "colab": {
          "background_save": true
        },
        "id": "lLFCRHvkU-Kd"
      },
      "outputs": [],
      "source": [
        "import keras\n",
        "from keras.layers import Conv2D, MaxPooling2D, Dense, Flatten, Dropout, GlobalAveragePooling2D\n",
        "from keras.models import Sequential\n",
        "from keras import optimizers\n",
        "from keras import regularizers\n",
        "import tensorflow as tf"
      ]
    },
    {
      "cell_type": "code",
      "execution_count": null,
      "metadata": {
        "colab": {
          "background_save": true
        },
        "id": "9xu-I9rGhpzf"
      },
      "outputs": [],
      "source": [
        "dirt=np.array(dirt)\n",
        "clear=np.array(clear)"
      ]
    },
    {
      "cell_type": "code",
      "execution_count": null,
      "metadata": {
        "colab": {
          "background_save": true,
          "base_uri": "https://localhost:8080/"
        },
        "id": "now3sgtqiieQ",
        "outputId": "a6b223f3-38a9-4078-c784-1cad732c0ab7"
      },
      "outputs": [
        {
          "data": {
            "text/plain": [
              "(201, 480, 480, 3)"
            ]
          },
          "execution_count": 27,
          "metadata": {},
          "output_type": "execute_result"
        }
      ],
      "source": [
        "np.shape(dirt)"
      ]
    },
    {
      "cell_type": "code",
      "execution_count": null,
      "metadata": {
        "colab": {
          "background_save": true,
          "base_uri": "https://localhost:8080/"
        },
        "id": "jKVq6azeikgO",
        "outputId": "c227aa91-c031-4b1e-f7a0-e25f7aca2c95"
      },
      "outputs": [
        {
          "data": {
            "text/plain": [
              "(201, 480, 480, 3)"
            ]
          },
          "execution_count": 28,
          "metadata": {},
          "output_type": "execute_result"
        }
      ],
      "source": [
        "np.shape(clear)"
      ]
    },
    {
      "cell_type": "code",
      "execution_count": null,
      "metadata": {
        "colab": {
          "base_uri": "https://localhost:8080/"
        },
        "id": "o4CR335TYa9N",
        "outputId": "874b71fe-c04c-4619-e9e9-de092c3e35b0"
      },
      "outputs": [
        {
          "name": "stdout",
          "output_type": "stream",
          "text": [
            "Model: \"model_2\"\n",
            "__________________________________________________________________________________________________\n",
            " Layer (type)                   Output Shape         Param #     Connected to                     \n",
            "==================================================================================================\n",
            " input_3 (InputLayer)           [(None, 480, 480, 3  0           []                               \n",
            "                                )]                                                                \n",
            "                                                                                                  \n",
            " conv2d_18 (Conv2D)             (None, 480, 480, 64  9472        ['input_3[0][0]']                \n",
            "                                )                                                                 \n",
            "                                                                                                  \n",
            " conv2d_19 (Conv2D)             (None, 240, 240, 12  73856       ['conv2d_18[0][0]']              \n",
            "                                8)                                                                \n",
            "                                                                                                  \n",
            " conv2d_20 (Conv2D)             (None, 120, 120, 25  295168      ['conv2d_19[0][0]']              \n",
            "                                6)                                                                \n",
            "                                                                                                  \n",
            " conv2d_21 (Conv2D)             (None, 120, 120, 25  590080      ['conv2d_20[0][0]']              \n",
            "                                6)                                                                \n",
            "                                                                                                  \n",
            " conv2d_22 (Conv2D)             (None, 120, 120, 25  590080      ['conv2d_21[0][0]']              \n",
            "                                6)                                                                \n",
            "                                                                                                  \n",
            " conv2d_23 (Conv2D)             (None, 120, 120, 25  590080      ['conv2d_22[0][0]']              \n",
            "                                6)                                                                \n",
            "                                                                                                  \n",
            " conv2d_24 (Conv2D)             (None, 120, 120, 25  590080      ['conv2d_23[0][0]']              \n",
            "                                6)                                                                \n",
            "                                                                                                  \n",
            " conv2d_25 (Conv2D)             (None, 120, 120, 25  590080      ['conv2d_24[0][0]']              \n",
            "                                6)                                                                \n",
            "                                                                                                  \n",
            " add_2 (Add)                    (None, 120, 120, 25  0           ['conv2d_25[0][0]',              \n",
            "                                6)                                'conv2d_20[0][0]']              \n",
            "                                                                                                  \n",
            " conv2d_transpose_4 (Conv2DTran  (None, 240, 240, 12  295040     ['add_2[0][0]']                  \n",
            " spose)                         8)                                                                \n",
            "                                                                                                  \n",
            " conv2d_transpose_5 (Conv2DTran  (None, 480, 480, 64  73792      ['conv2d_transpose_4[0][0]']     \n",
            " spose)                         )                                                                 \n",
            "                                                                                                  \n",
            " conv2d_26 (Conv2D)             (None, 480, 480, 3)  9411        ['conv2d_transpose_5[0][0]']     \n",
            "                                                                                                  \n",
            "==================================================================================================\n",
            "Total params: 3,707,139\n",
            "Trainable params: 3,707,139\n",
            "Non-trainable params: 0\n",
            "__________________________________________________________________________________________________\n"
          ]
        }
      ],
      "source": [
        "input_img = keras.Input(shape=(480, 480, 3))\n",
        "x=tf.keras.layers.Conv2D(64, (7, 7),strides=(1,1), activation=\"relu\", input_shape=(480, 480, 3),padding='same')(input_img)\n",
        "x=tf.keras.layers.Conv2D(128,(3,3),strides=(2,2),activation=\"relu\",padding='same')(x)\n",
        "x=tf.keras.layers.Conv2D(256,(3,3),strides=(2,2),activation=\"relu\",padding='same')(x)\n",
        "\n",
        "r=tf.keras.layers.Conv2D(256,(3,3),strides=(1,1),activation=\"relu\",padding='same')(x)\n",
        "\n",
        "r=tf.keras.layers.Conv2D(256,(3,3),strides=(1,1),activation=\"relu\",padding='same')(r)\n",
        "r=tf.keras.layers.Conv2D(256,(3,3),strides=(1,1),activation=\"relu\",padding='same')(r)\n",
        "r=tf.keras.layers.Conv2D(256,(3,3),strides=(1,1),activation=\"relu\",padding='same')(r)\n",
        "r=tf.keras.layers.Conv2D(256,(3,3),strides=(1,1),activation=\"relu\",padding='same')(r)\n",
        "\n",
        "d=tf.keras.layers.Add()([r,x])\n",
        "\n",
        "d=tf.keras.layers.Conv2DTranspose(128,(3,3),strides=(2,2),activation=\"relu\",padding='same')(d)\n",
        "d=tf.keras.layers.Conv2DTranspose(64,(3,3),strides=(2,2),activation=\"relu\",padding='same')(d)\n",
        "d=tf.keras.layers.Conv2D(3,(7,7),strides=(1,1),activation=\"relu\",padding='same')(d)\n",
        "\n",
        "\n",
        "generator = keras.Model(input_img, d)\n",
        "generator.compile(optimizer='adam', loss='mse')\n",
        "generator.summary()"
      ]
    },
    {
      "cell_type": "code",
      "execution_count": null,
      "metadata": {
        "colab": {
          "background_save": true
        },
        "id": "_Xl2iTLhft7M"
      },
      "outputs": [],
      "source": [
        "tf.config.run_functions_eagerly(False)\n"
      ]
    },
    {
      "cell_type": "code",
      "execution_count": null,
      "metadata": {
        "colab": {
          "base_uri": "https://localhost:8080/"
        },
        "id": "DGpkJCwB29bV",
        "outputId": "13abd1a9-f731-4f67-fe3e-f0f17fdaa087"
      },
      "outputs": [
        {
          "name": "stdout",
          "output_type": "stream",
          "text": [
            "Epoch 1/50\n",
            "11/11 [==============================] - 19s 2s/step - loss: 381.7416\n",
            "Epoch 2/50\n",
            "11/11 [==============================] - 19s 2s/step - loss: 364.8229\n",
            "Epoch 3/50\n",
            "11/11 [==============================] - 19s 2s/step - loss: 396.5562\n",
            "Epoch 4/50\n",
            "11/11 [==============================] - 19s 2s/step - loss: 405.2205\n",
            "Epoch 5/50\n",
            "11/11 [==============================] - 19s 2s/step - loss: 336.1203\n",
            "Epoch 6/50\n",
            "11/11 [==============================] - 19s 2s/step - loss: 385.1858\n",
            "Epoch 7/50\n",
            "11/11 [==============================] - 19s 2s/step - loss: 358.0145\n",
            "Epoch 8/50\n",
            "11/11 [==============================] - 19s 2s/step - loss: 316.8474\n",
            "Epoch 9/50\n",
            "11/11 [==============================] - 19s 2s/step - loss: 305.0593\n",
            "Epoch 10/50\n",
            "11/11 [==============================] - 19s 2s/step - loss: 490.0047\n",
            "Epoch 11/50\n",
            "11/11 [==============================] - 19s 2s/step - loss: 360.2097\n",
            "Epoch 12/50\n",
            "11/11 [==============================] - 19s 2s/step - loss: 320.0564\n",
            "Epoch 13/50\n",
            "11/11 [==============================] - 19s 2s/step - loss: 308.1780\n",
            "Epoch 14/50\n",
            "11/11 [==============================] - 19s 2s/step - loss: 301.6361\n",
            "Epoch 15/50\n",
            "11/11 [==============================] - 19s 2s/step - loss: 359.5076\n",
            "Epoch 16/50\n",
            "11/11 [==============================] - 19s 2s/step - loss: 307.0946\n",
            "Epoch 17/50\n",
            "11/11 [==============================] - 19s 2s/step - loss: 291.0709\n",
            "Epoch 18/50\n",
            "11/11 [==============================] - 19s 2s/step - loss: 304.1086\n",
            "Epoch 19/50\n",
            "11/11 [==============================] - 19s 2s/step - loss: 291.1717\n",
            "Epoch 20/50\n",
            "11/11 [==============================] - 19s 2s/step - loss: 277.8701\n",
            "Epoch 21/50\n",
            "11/11 [==============================] - 19s 2s/step - loss: 282.4497\n",
            "Epoch 22/50\n",
            "11/11 [==============================] - 19s 2s/step - loss: 303.0545\n",
            "Epoch 23/50\n",
            "11/11 [==============================] - 19s 2s/step - loss: 359.8700\n",
            "Epoch 24/50\n",
            "11/11 [==============================] - 19s 2s/step - loss: 300.7604\n",
            "Epoch 25/50\n",
            "11/11 [==============================] - 19s 2s/step - loss: 271.3212\n",
            "Epoch 26/50\n",
            "11/11 [==============================] - 19s 2s/step - loss: 347.4653\n",
            "Epoch 27/50\n",
            "11/11 [==============================] - 19s 2s/step - loss: 294.8657\n",
            "Epoch 28/50\n",
            "11/11 [==============================] - 19s 2s/step - loss: 270.9647\n",
            "Epoch 29/50\n",
            "11/11 [==============================] - 19s 2s/step - loss: 267.7351\n",
            "Epoch 30/50\n",
            "11/11 [==============================] - 19s 2s/step - loss: 312.1097\n",
            "Epoch 31/50\n",
            "11/11 [==============================] - 19s 2s/step - loss: 275.7721\n",
            "Epoch 32/50\n",
            "11/11 [==============================] - 19s 2s/step - loss: 268.1443\n",
            "Epoch 33/50\n",
            "11/11 [==============================] - 19s 2s/step - loss: 251.5839\n",
            "Epoch 34/50\n",
            "11/11 [==============================] - 19s 2s/step - loss: 281.3015\n",
            "Epoch 35/50\n",
            "11/11 [==============================] - 19s 2s/step - loss: 276.7843\n",
            "Epoch 36/50\n",
            "11/11 [==============================] - 19s 2s/step - loss: 349.6015\n",
            "Epoch 37/50\n",
            "11/11 [==============================] - 19s 2s/step - loss: 303.1735\n",
            "Epoch 38/50\n",
            "11/11 [==============================] - 19s 2s/step - loss: 257.0692\n",
            "Epoch 39/50\n",
            "11/11 [==============================] - 19s 2s/step - loss: 251.1379\n",
            "Epoch 40/50\n",
            "11/11 [==============================] - 19s 2s/step - loss: 260.7745\n",
            "Epoch 41/50\n",
            "11/11 [==============================] - 19s 2s/step - loss: 260.4797\n",
            "Epoch 42/50\n",
            "11/11 [==============================] - 19s 2s/step - loss: 250.9432\n",
            "Epoch 43/50\n",
            "11/11 [==============================] - 19s 2s/step - loss: 235.3793\n",
            "Epoch 44/50\n",
            "11/11 [==============================] - 19s 2s/step - loss: 228.7197\n",
            "Epoch 45/50\n",
            "11/11 [==============================] - 19s 2s/step - loss: 231.1406\n",
            "Epoch 46/50\n",
            "11/11 [==============================] - 19s 2s/step - loss: 244.2598\n",
            "Epoch 47/50\n",
            "11/11 [==============================] - 19s 2s/step - loss: 269.8925\n",
            "Epoch 48/50\n",
            "11/11 [==============================] - 19s 2s/step - loss: 230.9260\n",
            "Epoch 49/50\n",
            "11/11 [==============================] - 19s 2s/step - loss: 263.5283\n",
            "Epoch 50/50\n",
            "11/11 [==============================] - 19s 2s/step - loss: 261.6550\n"
          ]
        },
        {
          "data": {
            "text/plain": [
              "<keras.callbacks.History at 0x7f219ae980a0>"
            ]
          },
          "execution_count": 61,
          "metadata": {},
          "output_type": "execute_result"
        }
      ],
      "source": [
        "generator.fit(dirt, clear, epochs=50, batch_size=20)"
      ]
    },
    {
      "cell_type": "code",
      "execution_count": null,
      "metadata": {
        "colab": {
          "base_uri": "https://localhost:8080/",
          "height": 285
        },
        "id": "X16PZm-r29Q8",
        "outputId": "d2a740c0-7687-41a3-ef38-82a1abb0a22e"
      },
      "outputs": [
        {
          "data": {
            "text/plain": [
              "[<matplotlib.lines.Line2D at 0x7f219ae72fa0>]"
            ]
          },
          "execution_count": 62,
          "metadata": {},
          "output_type": "execute_result"
        },
        {
          "data": {
            "image/png": "[encoded data removed]",
            "text/plain": [
              "<Figure size 432x288 with 1 Axes>"
            ]
          },
          "metadata": {},
          "output_type": "display_data"
        }
      ],
      "source": [
        "plt.plot(generator.history.history['loss'])"
      ]
    },
    {
      "cell_type": "code",
      "execution_count": null,
      "metadata": {
        "colab": {
          "base_uri": "https://localhost:8080/"
        },
        "id": "P_W3UWsU4ZFo",
        "outputId": "8613e4e6-18a1-4278-9382-5a3826659704"
      },
      "outputs": [
        {
          "name": "stdout",
          "output_type": "stream",
          "text": [
            "7/7 [==============================] - 18s 1s/step\n"
          ]
        }
      ],
      "source": [
        "var = generator.predict(dirt)"
      ]
    },
    {
      "cell_type": "code",
      "execution_count": null,
      "metadata": {
        "colab": {
          "background_save": true
        },
        "id": "m7aP8zragKCi"
      },
      "outputs": [],
      "source": [
        "from google.colab.patches import cv2_imshow\n",
        "import random\n"
      ]
    },
    {
      "cell_type": "code",
      "execution_count": null,
      "metadata": {
        "colab": {
          "background_save": true
        },
        "id": "FPnPNqKGiF4E"
      },
      "outputs": [],
      "source": []
    },
    {
      "cell_type": "code",
      "execution_count": null,
      "metadata": {
        "colab": {
          "background_save": true
        },
        "id": "wzOwv9umgYnB"
      },
      "outputs": [],
      "source": [
        "def images():\n",
        "  num = random.random()*200\n",
        "  n=int(num)\n",
        "  img = dirt[n, :, :, :]\n",
        "  b=img[:,:,0]\n",
        "  g=img[:,:,1]\n",
        "  r=img[:,:,2]\n",
        "  rgb1 = np.dstack((r,g,b))\n",
        "\n",
        "\n",
        "  img = var[n, :, :, :]\n",
        "  b=img[:,:,0]\n",
        "  g=img[:,:,1]\n",
        "  r=img[:,:,2]\n",
        "  rgb2 = np.dstack((r,g,b))\n",
        "  Hori = np.concatenate((rgb1, rgb2), axis=1)\n",
        "\n",
        "  cv2_imshow(Hori)\n"
      ]
    },
    {
      "cell_type": "code",
      "execution_count": null,
      "metadata": {
        "colab": {
          "background_save": true
        },
        "id": "RmTfO9ekaOcQ"
      },
      "outputs": [],
      "source": [
        "def disp_images(n):\n",
        "  for i in range(0,n):\n",
        "    images()"
      ]
    },
    {
      "cell_type": "code",
      "execution_count": null,
      "metadata": {
        "colab": {
          "background_save": true,
          "base_uri": "https://localhost:8080/",
          "height": 1000
        },
        "id": "IIEcJoDBaZbJ",
        "outputId": "fdab82df-4c2a-44be-95c4-5a6a3c4e2fd5"
      },
      "outputs": [],
      "source": [
        "disp_images(10)"
      ]
    },
    {
      "cell_type": "code",
      "execution_count": null,
      "metadata": {
        "colab": {
          "background_save": true
        },
        "id": "YyykYEPRmjyg"
      },
      "outputs": [],
      "source": [
        "np.shape(dirt)"
      ]
    },
    {
      "cell_type": "code",
      "execution_count": null,
      "metadata": {
        "colab": {
          "background_save": true
        },
        "id": "vCCV0Rr8mngi"
      },
      "outputs": [],
      "source": [
        "np.shape(clear)"
      ]
    },
    {
      "cell_type": "code",
      "execution_count": null,
      "metadata": {
        "colab": {
          "background_save": true
        },
        "id": "CLHTZ3tMbtXI"
      },
      "outputs": [],
      "source": [
        "generator.save('/content/gdrive/MyDrive/sea_model_X.h5')"
      ]
    },
    {
      "cell_type": "code",
      "execution_count": null,
      "metadata": {
        "colab": {
          "background_save": true
        },
        "id": "MVHnV1EQcutH"
      },
      "outputs": [],
      "source": [
        "generator.save('sea_model_X.h5')"
      ]
    },
    {
      "cell_type": "code",
      "execution_count": null,
      "metadata": {
        "colab": {
          "background_save": true
        },
        "id": "rir_fNQDb8Zz"
      },
      "outputs": [],
      "source": [
        "new_model = tf.keras.models.load_model('/content/gdrive/MyDrive/sea_model_X.h5')"
      ]
    },
    {
      "cell_type": "code",
      "execution_count": null,
      "metadata": {
        "colab": {
          "background_save": true
        },
        "id": "Bp0MY_ducE0q"
      },
      "outputs": [],
      "source": [
        "new_model.summary()"
      ]
    },
    {
      "cell_type": "code",
      "execution_count": null,
      "metadata": {
        "colab": {
          "background_save": true
        },
        "id": "aLfc2g0ocLlW"
      },
      "outputs": [],
      "source": [
        "var = new_model.predict(dirt)"
      ]
    },
    {
      "cell_type": "code",
      "execution_count": null,
      "metadata": {
        "id": "eQl-xUZ2CzOl"
      },
      "outputs": [],
      "source": []
    }
  ],
  "metadata": {
    "accelerator": "GPU",
    "colab": {
      "provenance": [],
      "include_colab_link": true
    },
    "gpuClass": "standard",
    "kernelspec": {
      "display_name": "Python 3",
      "name": "python3"
    },
    "language_info": {
      "name": "python"
    }
  },
  "nbformat": 4,
  "nbformat_minor": 0
}